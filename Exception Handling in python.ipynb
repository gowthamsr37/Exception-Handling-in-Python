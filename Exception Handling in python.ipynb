{
 "cells": [
  {
   "cell_type": "markdown",
   "id": "b12c5227",
   "metadata": {},
   "source": [
    "# Exception Handling in Python"
   ]
  },
  {
   "cell_type": "code",
   "execution_count": 2,
   "id": "93b55466",
   "metadata": {},
   "outputs": [],
   "source": [
    "a =10\n",
    "## No error"
   ]
  },
  {
   "cell_type": "code",
   "execution_count": 3,
   "id": "cbe7f42d",
   "metadata": {},
   "outputs": [
    {
     "ename": "NameError",
     "evalue": "name 'b' is not defined",
     "output_type": "error",
     "traceback": [
      "\u001b[1;31m---------------------------------------------------------------------------\u001b[0m",
      "\u001b[1;31mNameError\u001b[0m                                 Traceback (most recent call last)",
      "Input \u001b[1;32mIn [3]\u001b[0m, in \u001b[0;36m<cell line: 1>\u001b[1;34m()\u001b[0m\n\u001b[1;32m----> 1\u001b[0m a \u001b[38;5;241m=\u001b[39m \u001b[43mb\u001b[49m\n",
      "\u001b[1;31mNameError\u001b[0m: name 'b' is not defined"
     ]
    }
   ],
   "source": [
    "a = b "
   ]
  },
  {
   "cell_type": "code",
   "execution_count": 6,
   "id": "2f54f7b7",
   "metadata": {},
   "outputs": [],
   "source": [
    "try:\n",
    "    ## code block where exception can occur\n",
    "except:\n",
    "    print('Something went wrong')"
   ]
  },
  {
   "cell_type": "code",
   "execution_count": null,
   "id": "ebd61af7",
   "metadata": {},
   "outputs": [],
   "source": []
  },
  {
   "cell_type": "code",
   "execution_count": 7,
   "id": "210b06b8",
   "metadata": {},
   "outputs": [
    {
     "name": "stdout",
     "output_type": "stream",
     "text": [
      "Something went wrong\n"
     ]
    }
   ],
   "source": [
    "try:\n",
    "    a= b \n",
    "except:\n",
    "    print('Something went wrong')"
   ]
  },
  {
   "cell_type": "code",
   "execution_count": 8,
   "id": "0e9fb255",
   "metadata": {},
   "outputs": [
    {
     "name": "stdout",
     "output_type": "stream",
     "text": [
      "name 'b' is not defined\n"
     ]
    }
   ],
   "source": [
    "try:\n",
    "    a= b \n",
    "except Exception as e:\n",
    "    print(e) ## Displays the error"
   ]
  },
  {
   "cell_type": "code",
   "execution_count": null,
   "id": "4174d499",
   "metadata": {},
   "outputs": [],
   "source": []
  },
  {
   "cell_type": "code",
   "execution_count": 9,
   "id": "45f5f3da",
   "metadata": {},
   "outputs": [
    {
     "name": "stdout",
     "output_type": "stream",
     "text": [
      "Variable not defined\n"
     ]
    }
   ],
   "source": [
    "try:\n",
    "    a= b\n",
    "except NameError as ex:\n",
    "    print('Variable not defined')\n",
    "except Exception as e:\n",
    "    print(e) ## Displays the error"
   ]
  },
  {
   "cell_type": "code",
   "execution_count": null,
   "id": "781f6675",
   "metadata": {},
   "outputs": [],
   "source": []
  },
  {
   "cell_type": "code",
   "execution_count": 11,
   "id": "2b87da85",
   "metadata": {},
   "outputs": [
    {
     "ename": "TypeError",
     "evalue": "unsupported operand type(s) for +: 'int' and 'str'",
     "output_type": "error",
     "traceback": [
      "\u001b[1;31m---------------------------------------------------------------------------\u001b[0m",
      "\u001b[1;31mTypeError\u001b[0m                                 Traceback (most recent call last)",
      "Input \u001b[1;32mIn [11]\u001b[0m, in \u001b[0;36m<cell line: 3>\u001b[1;34m()\u001b[0m\n\u001b[0;32m      1\u001b[0m a \u001b[38;5;241m=\u001b[39m \u001b[38;5;241m1\u001b[39m\n\u001b[0;32m      2\u001b[0m b \u001b[38;5;241m=\u001b[39m \u001b[38;5;124m'\u001b[39m\u001b[38;5;124ms\u001b[39m\u001b[38;5;124m'\u001b[39m\n\u001b[1;32m----> 3\u001b[0m \u001b[43ma\u001b[49m\u001b[38;5;241;43m+\u001b[39;49m\u001b[43mb\u001b[49m\n",
      "\u001b[1;31mTypeError\u001b[0m: unsupported operand type(s) for +: 'int' and 'str'"
     ]
    }
   ],
   "source": [
    "a = 1\n",
    "b = 's'\n",
    "a+b "
   ]
  },
  {
   "cell_type": "code",
   "execution_count": null,
   "id": "a0412fa6",
   "metadata": {},
   "outputs": [],
   "source": []
  },
  {
   "cell_type": "code",
   "execution_count": 12,
   "id": "481b3b1c",
   "metadata": {},
   "outputs": [
    {
     "name": "stdout",
     "output_type": "stream",
     "text": [
      "unsupported operand type(s) for +: 'int' and 'str'\n"
     ]
    }
   ],
   "source": [
    "try:\n",
    "    a= 1\n",
    "    b = 's'\n",
    "    c = a+b\n",
    "except NameError as ex:\n",
    "    print('Variable not defined')\n",
    "except Exception as e:\n",
    "    print(e) ## Displays the exception which is not caught in the above blocks"
   ]
  },
  {
   "cell_type": "code",
   "execution_count": 14,
   "id": "e208a6f9",
   "metadata": {},
   "outputs": [
    {
     "name": "stdout",
     "output_type": "stream",
     "text": [
      "Try to make similar datatype\n"
     ]
    }
   ],
   "source": [
    "try:\n",
    "    a= 1\n",
    "    b = 's'\n",
    "    c = a+b\n",
    "except NameError as ex:\n",
    "    print('Variable not defined')\n",
    "except TypeError as ex:\n",
    "    print('Try to make similar datatype')\n",
    "except Exception as e:\n",
    "    print(e) ## Displays the exception which is not caught in the above blocks"
   ]
  },
  {
   "cell_type": "code",
   "execution_count": null,
   "id": "9d36948d",
   "metadata": {},
   "outputs": [],
   "source": []
  },
  {
   "cell_type": "code",
   "execution_count": null,
   "id": "52beba63",
   "metadata": {},
   "outputs": [],
   "source": []
  },
  {
   "cell_type": "code",
   "execution_count": 16,
   "id": "500ed5e4",
   "metadata": {},
   "outputs": [
    {
     "name": "stdout",
     "output_type": "stream",
     "text": [
      "Enter the first number 1\n",
      "Enter the second number 2\n",
      "0.5\n",
      "2\n",
      "3\n"
     ]
    }
   ],
   "source": [
    "try:\n",
    "    a = int(input('Enter the first number '))\n",
    "    b = int(input('Enter the second number '))\n",
    "    c = a/b\n",
    "    d = a*b\n",
    "    e =a+b\n",
    "    print(c)\n",
    "    print(d)\n",
    "    print(e)\n",
    "    \n",
    "except NameError as ex: ## Try to catch the NameError\n",
    "    print('Variable not defined')\n",
    "except TypeError as ex: ## Try to catch the TypeError\n",
    "    print('Try to make similar datatype')\n",
    "except Exception as e:\n",
    "    print(e) ## Displays the exception which is not caught in the above blocks"
   ]
  },
  {
   "cell_type": "code",
   "execution_count": 17,
   "id": "f93e7f8e",
   "metadata": {},
   "outputs": [
    {
     "name": "stdout",
     "output_type": "stream",
     "text": [
      "Enter the first number 2\n",
      "Enter the second number 0\n",
      "division by zero\n"
     ]
    }
   ],
   "source": [
    "try:\n",
    "    a = int(input('Enter the first number '))\n",
    "    b = int(input('Enter the second number '))\n",
    "    c = a/b\n",
    "    d = a*b\n",
    "    e =a+b\n",
    "    print(c)\n",
    "    print(d)\n",
    "    print(e)\n",
    "except NameError as ex: ## Try to catch the NameError\n",
    "    print('Variable not defined')\n",
    "except TypeError as ex: ## Try to catch the TypeError\n",
    "    print('Try to make similar datatype')\n",
    "except Exception as e:\n",
    "    print(e) ## Displays the exception which is not caught in the above blocks"
   ]
  },
  {
   "cell_type": "code",
   "execution_count": null,
   "id": "c185c0a9",
   "metadata": {},
   "outputs": [],
   "source": []
  },
  {
   "cell_type": "code",
   "execution_count": 18,
   "id": "dba59b94",
   "metadata": {},
   "outputs": [
    {
     "ename": "ZeroDivisionError",
     "evalue": "division by zero",
     "output_type": "error",
     "traceback": [
      "\u001b[1;31m---------------------------------------------------------------------------\u001b[0m",
      "\u001b[1;31mZeroDivisionError\u001b[0m                         Traceback (most recent call last)",
      "Input \u001b[1;32mIn [18]\u001b[0m, in \u001b[0;36m<cell line: 1>\u001b[1;34m()\u001b[0m\n\u001b[1;32m----> 1\u001b[0m \u001b[38;5;241;43m2\u001b[39;49m\u001b[38;5;241;43m/\u001b[39;49m\u001b[38;5;241;43m0\u001b[39;49m\n",
      "\u001b[1;31mZeroDivisionError\u001b[0m: division by zero"
     ]
    }
   ],
   "source": [
    "2/0"
   ]
  },
  {
   "cell_type": "code",
   "execution_count": 19,
   "id": "3ff3a9f0",
   "metadata": {},
   "outputs": [
    {
     "name": "stdout",
     "output_type": "stream",
     "text": [
      "Enter the first number 1\n",
      "Enter the second number 0\n",
      "Please provide a umber greater than 0\n"
     ]
    }
   ],
   "source": [
    "try:\n",
    "    a = int(input('Enter the first number '))\n",
    "    b = int(input('Enter the second number '))\n",
    "    c = a/b\n",
    "    d = a*b\n",
    "    e =a+b\n",
    "    print(c)\n",
    "    print(d)\n",
    "    print(e)\n",
    "except NameError as ex: ## Try to catch the NameError\n",
    "    print('Variable not defined')\n",
    "except TypeError as ex: ## Try to catch the TypeError\n",
    "    print('Try to make similar datatype')\n",
    "except ZeroDivisionError: ## catches the zerodivision error\n",
    "    print('Please provide a umber greater than 0')\n",
    "except Exception as e:\n",
    "    print(e) ## Displays the exception which is not caught in the above blocks"
   ]
  },
  {
   "cell_type": "code",
   "execution_count": null,
   "id": "d1448007",
   "metadata": {},
   "outputs": [],
   "source": []
  },
  {
   "cell_type": "markdown",
   "id": "f8ebbd5e",
   "metadata": {},
   "source": [
    "# Try except else"
   ]
  },
  {
   "cell_type": "code",
   "execution_count": 21,
   "id": "21e52d50",
   "metadata": {},
   "outputs": [
    {
     "name": "stdout",
     "output_type": "stream",
     "text": [
      "Enter the first number 12\n",
      "Enter the second number 6\n",
      "2.0\n",
      "72\n",
      "18\n"
     ]
    }
   ],
   "source": [
    "## Else block\n",
    "\n",
    "try:\n",
    "    a = int(input('Enter the first number '))\n",
    "    b = int(input('Enter the second number '))\n",
    "    c = a/b\n",
    "    d = a*b\n",
    "    e =a+b\n",
    "    \n",
    "except NameError as ex: ## Try to catch the NameError\n",
    "    print('Variable not defined')\n",
    "    \n",
    "except TypeError as ex: ## Try to catch the TypeError\n",
    "    print('Try to make similar datatype')\n",
    "          \n",
    "except ZeroDivisionError: ## catches the zerodivision error\n",
    "    print('Please provide a umber greater than 0')\n",
    "          \n",
    "except Exception as e:\n",
    "    print(e) ## Displays the exception which is not caught in the above blocks\n",
    "          \n",
    "else: ## If no exception gets raised then the else block gets executed\n",
    "    print(c)\n",
    "    print(d)\n",
    "    print(e)"
   ]
  },
  {
   "cell_type": "code",
   "execution_count": null,
   "id": "d259def0",
   "metadata": {},
   "outputs": [],
   "source": []
  },
  {
   "cell_type": "markdown",
   "id": "dfbd67ba",
   "metadata": {},
   "source": [
    "# Try except Finally"
   ]
  },
  {
   "cell_type": "code",
   "execution_count": 24,
   "id": "8e15f409",
   "metadata": {},
   "outputs": [
    {
     "name": "stdout",
     "output_type": "stream",
     "text": [
      "Enter the first number 4\n",
      "Enter the second number 1\n",
      "4.0\n",
      "Execution is done\n"
     ]
    }
   ],
   "source": [
    "## Else block\n",
    "\n",
    "try:\n",
    "    a = int(input('Enter the first number '))\n",
    "    b = int(input('Enter the second number '))\n",
    "    c = a/b\n",
    "    \n",
    "except NameError as ex: ## Try to catch the NameError\n",
    "    print('Variable not defined')\n",
    "    \n",
    "except TypeError as ex: ## Try to catch the TypeError\n",
    "    print('Try to make similar datatype')\n",
    "          \n",
    "except ZeroDivisionError: ## catches the zerodivision error\n",
    "    print('Please provide a umber greater than 0')\n",
    "          \n",
    "except Exception as e:\n",
    "    print(e) ## Displays the exception which is not caught in the above blocks\n",
    "else:\n",
    "    print(c)\n",
    "finally: ## this block always gets executed \n",
    "    print('Execution is done')"
   ]
  },
  {
   "cell_type": "code",
   "execution_count": null,
   "id": "78bc781b",
   "metadata": {},
   "outputs": [],
   "source": []
  },
  {
   "cell_type": "code",
   "execution_count": null,
   "id": "089b893d",
   "metadata": {},
   "outputs": [],
   "source": []
  },
  {
   "cell_type": "code",
   "execution_count": null,
   "id": "b2ed2a3a",
   "metadata": {},
   "outputs": [],
   "source": []
  },
  {
   "cell_type": "code",
   "execution_count": 25,
   "id": "76f74d45",
   "metadata": {},
   "outputs": [
    {
     "name": "stdout",
     "output_type": "stream",
     "text": [
      "Enter the first number 4\n",
      "Enter the second number 0\n",
      "Please provide a umber greater than 0\n",
      "Execution is done\n"
     ]
    }
   ],
   "source": [
    "## Else block\n",
    "\n",
    "try:\n",
    "    a = int(input('Enter the first number '))\n",
    "    b = int(input('Enter the second number '))\n",
    "    c = a/b\n",
    "    \n",
    "except NameError as ex: ## Try to catch the NameError\n",
    "    print('Variable not defined')\n",
    "    \n",
    "except TypeError as ex: ## Try to catch the TypeError\n",
    "    print('Try to make similar datatype')\n",
    "          \n",
    "except ZeroDivisionError: ## catches the zerodivision error\n",
    "    print('Please provide a umber greater than 0')\n",
    "          \n",
    "except Exception as e:\n",
    "    print(e) ## Displays the exception which is not caught in the above blocks\n",
    "else:\n",
    "    print(c)\n",
    "finally: ## this block always gets executed \n",
    "    print('Execution is done')"
   ]
  },
  {
   "cell_type": "code",
   "execution_count": null,
   "id": "5d5f6d5d",
   "metadata": {},
   "outputs": [],
   "source": []
  },
  {
   "cell_type": "code",
   "execution_count": 4,
   "id": "88e636e2",
   "metadata": {},
   "outputs": [
    {
     "name": "stdout",
     "output_type": "stream",
     "text": [
      "Resource open\n",
      "you cannot divide by zero division by zero\n",
      "bye\n"
     ]
    }
   ],
   "source": [
    "a= 5\n",
    "b =0\n",
    "\n",
    "\n",
    "try:\n",
    "    print('Resource open')\n",
    "    print(a/b )\n",
    "    print('Resource closed')\n",
    "except Exception as e:\n",
    "    print('you cannot divide by zero' , e )\n",
    "\n",
    "\n",
    "print('bye')"
   ]
  },
  {
   "cell_type": "code",
   "execution_count": 5,
   "id": "1ba36502",
   "metadata": {},
   "outputs": [
    {
     "name": "stdout",
     "output_type": "stream",
     "text": [
      "Resource open\n",
      "you cannot divide by zero division by zero\n",
      "Resource closed\n",
      "bye\n"
     ]
    }
   ],
   "source": [
    "a= 5\n",
    "b =0\n",
    "\n",
    "\n",
    "try:\n",
    "    print('Resource open')\n",
    "    print(a/b )\n",
    "    \n",
    "except Exception as e:\n",
    "    print('you cannot divide by zero' , e )\n",
    "    print('Resource closed')\n",
    "\n",
    "\n",
    "print('bye')"
   ]
  },
  {
   "cell_type": "code",
   "execution_count": 6,
   "id": "6f1cb8e9",
   "metadata": {},
   "outputs": [
    {
     "name": "stdout",
     "output_type": "stream",
     "text": [
      "Resource open\n",
      "2.5\n",
      "bye\n"
     ]
    }
   ],
   "source": [
    "a= 5\n",
    "b =2\n",
    "\n",
    "\n",
    "try:\n",
    "    print('Resource open')\n",
    "    print(a/b )\n",
    "    \n",
    "except Exception as e:\n",
    "    print('you cannot divide by zero' , e )\n",
    "    print('Resource closed')\n",
    "\n",
    "\n",
    "print('bye')"
   ]
  },
  {
   "cell_type": "code",
   "execution_count": 7,
   "id": "8c900573",
   "metadata": {},
   "outputs": [
    {
     "name": "stdout",
     "output_type": "stream",
     "text": [
      "Resource open\n",
      "2.5\n",
      "Resource closed\n"
     ]
    }
   ],
   "source": [
    "a= 5\n",
    "b =2\n",
    "\n",
    "\n",
    "try:\n",
    "    print('Resource open')\n",
    "    print(a/b )\n",
    "    \n",
    "except Exception as e:\n",
    "    print('you cannot divide by zero' , e )\n",
    "    \n",
    "finally:\n",
    "    print('Resource closed')"
   ]
  },
  {
   "cell_type": "markdown",
   "id": "80cc67b7",
   "metadata": {},
   "source": [
    "# Custom Exception "
   ]
  },
  {
   "cell_type": "code",
   "execution_count": 1,
   "id": "e3170881",
   "metadata": {},
   "outputs": [],
   "source": [
    "class Error(Exception):\n",
    "    pass\n",
    "\n",
    "class dobException(Error):\n",
    "    pass"
   ]
  },
  {
   "cell_type": "code",
   "execution_count": 2,
   "id": "5b031cc8",
   "metadata": {},
   "outputs": [
    {
     "name": "stdout",
     "output_type": "stream",
     "text": [
      "Enter your year of birth 1994\n",
      "You are eligible to take the exam\n"
     ]
    }
   ],
   "source": [
    "year = int(input('Enter your year of birth '))\n",
    "age = 2022 - year\n",
    "\n",
    "try:\n",
    "    if age<=30 & age >20:\n",
    "        print('You are eligible to take the exam')\n",
    "    else:\n",
    "        raise dobException\n",
    "except dobException:\n",
    "    print('You are not eligible to take the exam')"
   ]
  },
  {
   "cell_type": "code",
   "execution_count": 3,
   "id": "09a6ca39",
   "metadata": {},
   "outputs": [
    {
     "name": "stdout",
     "output_type": "stream",
     "text": [
      "Enter your year of birth 1985\n",
      "You are not eligible to take the exam\n"
     ]
    }
   ],
   "source": [
    "year = int(input('Enter your year of birth '))\n",
    "age = 2022 - year\n",
    "\n",
    "try:\n",
    "    if age<=30 & age >20:\n",
    "        print('You are eligible to take the exam')\n",
    "    else:\n",
    "        raise dobException\n",
    "except dobException:\n",
    "    print('You are not eligible to take the exam')"
   ]
  }
 ],
 "metadata": {
  "kernelspec": {
   "display_name": "Python 3 (ipykernel)",
   "language": "python",
   "name": "python3"
  },
  "language_info": {
   "codemirror_mode": {
    "name": "ipython",
    "version": 3
   },
   "file_extension": ".py",
   "mimetype": "text/x-python",
   "name": "python",
   "nbconvert_exporter": "python",
   "pygments_lexer": "ipython3",
   "version": "3.10.4"
  }
 },
 "nbformat": 4,
 "nbformat_minor": 5
}
